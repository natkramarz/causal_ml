{
 "cells": [
  {
   "cell_type": "code",
   "execution_count": 1,
   "metadata": {},
   "outputs": [
    {
     "name": "stdout",
     "output_type": "stream",
     "text": [
      "Requirement already satisfied: dowhy in ./venv/lib/python3.9/site-packages (0.11)\n",
      "Requirement already satisfied: statsmodels>=0.13.5 in ./venv/lib/python3.9/site-packages (from dowhy) (0.14.2)\n",
      "Requirement already satisfied: joblib>=1.1.0 in ./venv/lib/python3.9/site-packages (from dowhy) (1.4.0)\n",
      "Requirement already satisfied: scikit-learn>1.0 in ./venv/lib/python3.9/site-packages (from dowhy) (1.4.2)\n",
      "Requirement already satisfied: numpy>=1.20 in ./venv/lib/python3.9/site-packages (from dowhy) (1.23.5)\n",
      "Requirement already satisfied: pandas>=1.4.3 in ./venv/lib/python3.9/site-packages (from dowhy) (1.5.3)\n",
      "Requirement already satisfied: networkx>=2.8.5 in ./venv/lib/python3.9/site-packages (from dowhy) (3.2.1)\n",
      "Requirement already satisfied: cvxpy<2.0.0,>=1.2.2 in ./venv/lib/python3.9/site-packages (from dowhy) (1.4.3)\n",
      "Requirement already satisfied: scipy>=1.4.1 in ./venv/lib/python3.9/site-packages (from dowhy) (1.11.4)\n",
      "Requirement already satisfied: cython>=0.29.32 in ./venv/lib/python3.9/site-packages (from dowhy) (3.0.10)\n",
      "Requirement already satisfied: sympy>=1.10.1 in ./venv/lib/python3.9/site-packages (from dowhy) (1.12)\n",
      "Requirement already satisfied: causal-learn>=0.1.3.0 in ./venv/lib/python3.9/site-packages (from dowhy) (0.1.3.8)\n",
      "Requirement already satisfied: tqdm>=4.64.0 in ./venv/lib/python3.9/site-packages (from dowhy) (4.66.2)\n",
      "Requirement already satisfied: matplotlib in ./venv/lib/python3.9/site-packages (from causal-learn>=0.1.3.0->dowhy) (3.8.4)\n",
      "Requirement already satisfied: pydot in ./venv/lib/python3.9/site-packages (from causal-learn>=0.1.3.0->dowhy) (2.0.0)\n",
      "Requirement already satisfied: graphviz in ./venv/lib/python3.9/site-packages (from causal-learn>=0.1.3.0->dowhy) (0.20.3)\n",
      "Requirement already satisfied: pybind11 in ./venv/lib/python3.9/site-packages (from cvxpy<2.0.0,>=1.2.2->dowhy) (2.12.0)\n",
      "Requirement already satisfied: ecos>=2 in ./venv/lib/python3.9/site-packages (from cvxpy<2.0.0,>=1.2.2->dowhy) (2.0.13)\n",
      "Requirement already satisfied: clarabel>=0.5.0 in ./venv/lib/python3.9/site-packages (from cvxpy<2.0.0,>=1.2.2->dowhy) (0.7.1)\n",
      "Requirement already satisfied: osqp>=0.6.2 in ./venv/lib/python3.9/site-packages (from cvxpy<2.0.0,>=1.2.2->dowhy) (0.6.5)\n",
      "Requirement already satisfied: scs>=3.0 in ./venv/lib/python3.9/site-packages (from cvxpy<2.0.0,>=1.2.2->dowhy) (3.2.4.post1)\n",
      "Requirement already satisfied: qdldl in ./venv/lib/python3.9/site-packages (from osqp>=0.6.2->cvxpy<2.0.0,>=1.2.2->dowhy) (0.1.7.post2)\n",
      "Requirement already satisfied: python-dateutil>=2.8.1 in ./venv/lib/python3.9/site-packages (from pandas>=1.4.3->dowhy) (2.9.0.post0)\n",
      "Requirement already satisfied: pytz>=2020.1 in ./venv/lib/python3.9/site-packages (from pandas>=1.4.3->dowhy) (2024.1)\n",
      "Requirement already satisfied: six>=1.5 in ./venv/lib/python3.9/site-packages (from python-dateutil>=2.8.1->pandas>=1.4.3->dowhy) (1.16.0)\n",
      "Requirement already satisfied: threadpoolctl>=2.0.0 in ./venv/lib/python3.9/site-packages (from scikit-learn>1.0->dowhy) (3.4.0)\n",
      "Requirement already satisfied: patsy>=0.5.6 in ./venv/lib/python3.9/site-packages (from statsmodels>=0.13.5->dowhy) (0.5.6)\n",
      "Requirement already satisfied: packaging>=21.3 in ./venv/lib/python3.9/site-packages (from statsmodels>=0.13.5->dowhy) (24.0)\n",
      "Requirement already satisfied: mpmath>=0.19 in ./venv/lib/python3.9/site-packages (from sympy>=1.10.1->dowhy) (1.3.0)\n",
      "Requirement already satisfied: pillow>=8 in ./venv/lib/python3.9/site-packages (from matplotlib->causal-learn>=0.1.3.0->dowhy) (10.3.0)\n",
      "Requirement already satisfied: importlib-resources>=3.2.0 in ./venv/lib/python3.9/site-packages (from matplotlib->causal-learn>=0.1.3.0->dowhy) (6.4.0)\n",
      "Requirement already satisfied: cycler>=0.10 in ./venv/lib/python3.9/site-packages (from matplotlib->causal-learn>=0.1.3.0->dowhy) (0.12.1)\n",
      "Requirement already satisfied: kiwisolver>=1.3.1 in ./venv/lib/python3.9/site-packages (from matplotlib->causal-learn>=0.1.3.0->dowhy) (1.4.5)\n",
      "Requirement already satisfied: fonttools>=4.22.0 in ./venv/lib/python3.9/site-packages (from matplotlib->causal-learn>=0.1.3.0->dowhy) (4.51.0)\n",
      "Requirement already satisfied: pyparsing>=2.3.1 in ./venv/lib/python3.9/site-packages (from matplotlib->causal-learn>=0.1.3.0->dowhy) (3.1.2)\n",
      "Requirement already satisfied: contourpy>=1.0.1 in ./venv/lib/python3.9/site-packages (from matplotlib->causal-learn>=0.1.3.0->dowhy) (1.2.1)\n",
      "Requirement already satisfied: zipp>=3.1.0 in ./venv/lib/python3.9/site-packages (from importlib-resources>=3.2.0->matplotlib->causal-learn>=0.1.3.0->dowhy) (3.18.1)\n",
      "\u001b[33mWARNING: You are using pip version 21.2.3; however, version 24.0 is available.\n",
      "You should consider upgrading via the '/home/natalia/wsi/venv/bin/python -m pip install --upgrade pip' command.\u001b[0m\n",
      "Note: you may need to restart the kernel to use updated packages.\n"
     ]
    },
    {
     "name": "stderr",
     "output_type": "stream",
     "text": [
      "UsageError: Line magic function `%apt` not found.\n"
     ]
    }
   ],
   "source": [
    "%pip install dowhy\n",
    "%apt install libgraphviz-dev\n",
    "%pip install pygraphviz\n",
    "%pip install pandas"
   ]
  },
  {
   "cell_type": "code",
   "execution_count": null,
   "metadata": {},
   "outputs": [
    {
     "name": "stdout",
     "output_type": "stream",
     "text": [
      "   PassengerId  Survived  Pclass  \\\n",
      "0            1         0       3   \n",
      "1            2         1       1   \n",
      "2            3         1       3   \n",
      "3            4         1       1   \n",
      "4            5         0       3   \n",
      "\n",
      "                                                Name     Sex   Age  SibSp  \\\n",
      "0                            Braund, Mr. Owen Harris    male  22.0      1   \n",
      "1  Cumings, Mrs. John Bradley (Florence Briggs Th...  female  38.0      1   \n",
      "2                             Heikkinen, Miss. Laina  female  26.0      0   \n",
      "3       Futrelle, Mrs. Jacques Heath (Lily May Peel)  female  35.0      1   \n",
      "4                           Allen, Mr. William Henry    male  35.0      0   \n",
      "\n",
      "   Parch            Ticket     Fare Cabin Embarked  \n",
      "0      0         A/5 21171   7.2500   NaN        S  \n",
      "1      0          PC 17599  71.2833   C85        C  \n",
      "2      0  STON/O2. 3101282   7.9250   NaN        S  \n",
      "3      0            113803  53.1000  C123        S  \n",
      "4      0            373450   8.0500   NaN        S  \n"
     ]
    }
   ],
   "source": [
    "import pandas as pd\n",
    "\n",
    "url = \"https://raw.githubusercontent.com/datasciencedojo/datasets/master/titanic.csv\"\n",
    "\n",
    "df = pd.read_csv(url)\n",
    "\n",
    "print(df.head())"
   ]
  },
  {
   "cell_type": "code",
   "execution_count": null,
   "metadata": {},
   "outputs": [
    {
     "name": "stdout",
     "output_type": "stream",
     "text": [
      "*** Causal Estimate ***\n",
      "\n",
      "## Identified estimand\n",
      "Estimand type: EstimandType.NONPARAMETRIC_ATE\n",
      "\n",
      "### Estimand : 1\n",
      "Estimand name: backdoor\n",
      "Estimand expression:\n",
      "  d                           \n",
      "──────(E[Survived|Pclass,Sex])\n",
      "d[Age]                        \n",
      "Estimand assumption 1, Unconfoundedness: If U→{Age} and U→Survived then P(Survived|Age,Pclass,Sex,U) = P(Survived|Age,Pclass,Sex)\n",
      "\n",
      "## Realized estimand\n",
      "b: Survived~Age+Pclass+Sex\n",
      "Target units: ate\n",
      "\n",
      "## Estimate\n",
      "Mean value: -0.0054531093651492\n",
      "\n"
     ]
    }
   ],
   "source": [
    "from dowhy import CausalModel\n",
    "import dowhy.datasets\n",
    "\n",
    "df_subset = df[['Age', 'Pclass', 'Sex', 'Survived']]\n",
    "df_cleaned = df_subset.dropna(subset=['Age', 'Pclass', 'Sex', 'Survived'], how='any')\n",
    "\n",
    "\n",
    "model = CausalModel(\n",
    "    data=df_cleaned,\n",
    "    treatment='Age',\n",
    "    outcome='Survived',\n",
    "    common_causes=['Pclass', 'Sex'])\n",
    "\n",
    "identified_estimand = model.identify_effect(proceed_when_unidentifiable=True)\n",
    "\n",
    "estimate = model.estimate_effect(identified_estimand,\n",
    "                                 method_name=\"backdoor.linear_regression\")\n",
    "\n",
    "print(estimate)"
   ]
  },
  {
   "cell_type": "code",
   "execution_count": null,
   "metadata": {},
   "outputs": [
    {
     "ename": "Exception",
     "evalue": "No common causes/confounders present. Propensity score based methods are not applicable",
     "output_type": "error",
     "traceback": [
      "\u001b[0;31m---------------------------------------------------------------------------\u001b[0m",
      "\u001b[0;31mException\u001b[0m                                 Traceback (most recent call last)",
      "Cell \u001b[0;32mIn[9], line 27\u001b[0m\n\u001b[1;32m     24\u001b[0m identified_estimand \u001b[38;5;241m=\u001b[39m model\u001b[38;5;241m.\u001b[39midentify_effect()\n\u001b[1;32m     26\u001b[0m \u001b[38;5;66;03m# Step 4: Estimate the Causal Effect\u001b[39;00m\n\u001b[0;32m---> 27\u001b[0m estimate \u001b[38;5;241m=\u001b[39m \u001b[43mmodel\u001b[49m\u001b[38;5;241;43m.\u001b[39;49m\u001b[43mestimate_effect\u001b[49m\u001b[43m(\u001b[49m\u001b[43midentified_estimand\u001b[49m\u001b[43m,\u001b[49m\u001b[43m \u001b[49m\u001b[43mmethod_name\u001b[49m\u001b[38;5;241;43m=\u001b[39;49m\u001b[38;5;124;43m\"\u001b[39;49m\u001b[38;5;124;43mbackdoor.propensity_score_matching\u001b[39;49m\u001b[38;5;124;43m\"\u001b[39;49m\u001b[43m)\u001b[49m\n\u001b[1;32m     29\u001b[0m \u001b[38;5;66;03m# Step 5: Refute the Causal Estimate\u001b[39;00m\n\u001b[1;32m     30\u001b[0m refuted_estimate \u001b[38;5;241m=\u001b[39m model\u001b[38;5;241m.\u001b[39mrefute_estimate(identified_estimand, estimate, method_name\u001b[38;5;241m=\u001b[39m\u001b[38;5;124m\"\u001b[39m\u001b[38;5;124mrandom_common_cause\u001b[39m\u001b[38;5;124m\"\u001b[39m)\n",
      "File \u001b[0;32m~/wsi/venv/lib/python3.9/site-packages/dowhy/causal_model.py:337\u001b[0m, in \u001b[0;36mCausalModel.estimate_effect\u001b[0;34m(self, identified_estimand, method_name, control_value, treatment_value, test_significance, evaluate_effect_strength, confidence_intervals, target_units, effect_modifiers, fit_estimator, method_params)\u001b[0m\n\u001b[1;32m    326\u001b[0m         causal_estimator \u001b[38;5;241m=\u001b[39m causal_estimator_class(\n\u001b[1;32m    327\u001b[0m             identified_estimand,\n\u001b[1;32m    328\u001b[0m             test_significance\u001b[38;5;241m=\u001b[39mtest_significance,\n\u001b[0;32m   (...)\u001b[0m\n\u001b[1;32m    332\u001b[0m             \u001b[38;5;241m*\u001b[39m\u001b[38;5;241m*\u001b[39mextra_args,\n\u001b[1;32m    333\u001b[0m         )\n\u001b[1;32m    335\u001b[0m         \u001b[38;5;28mself\u001b[39m\u001b[38;5;241m.\u001b[39m_estimator_cache[method_name] \u001b[38;5;241m=\u001b[39m causal_estimator\n\u001b[0;32m--> 337\u001b[0m \u001b[38;5;28;01mreturn\u001b[39;00m \u001b[43mestimate_effect\u001b[49m\u001b[43m(\u001b[49m\n\u001b[1;32m    338\u001b[0m \u001b[43m    \u001b[49m\u001b[38;5;28;43mself\u001b[39;49m\u001b[38;5;241;43m.\u001b[39;49m\u001b[43m_data\u001b[49m\u001b[43m,\u001b[49m\n\u001b[1;32m    339\u001b[0m \u001b[43m    \u001b[49m\u001b[38;5;28;43mself\u001b[39;49m\u001b[38;5;241;43m.\u001b[39;49m\u001b[43m_treatment\u001b[49m\u001b[43m,\u001b[49m\n\u001b[1;32m    340\u001b[0m \u001b[43m    \u001b[49m\u001b[38;5;28;43mself\u001b[39;49m\u001b[38;5;241;43m.\u001b[39;49m\u001b[43m_outcome\u001b[49m\u001b[43m,\u001b[49m\n\u001b[1;32m    341\u001b[0m \u001b[43m    \u001b[49m\u001b[43midentifier_name\u001b[49m\u001b[43m,\u001b[49m\n\u001b[1;32m    342\u001b[0m \u001b[43m    \u001b[49m\u001b[43mcausal_estimator\u001b[49m\u001b[43m,\u001b[49m\n\u001b[1;32m    343\u001b[0m \u001b[43m    \u001b[49m\u001b[43mcontrol_value\u001b[49m\u001b[43m,\u001b[49m\n\u001b[1;32m    344\u001b[0m \u001b[43m    \u001b[49m\u001b[43mtreatment_value\u001b[49m\u001b[43m,\u001b[49m\n\u001b[1;32m    345\u001b[0m \u001b[43m    \u001b[49m\u001b[43mtarget_units\u001b[49m\u001b[43m,\u001b[49m\n\u001b[1;32m    346\u001b[0m \u001b[43m    \u001b[49m\u001b[43meffect_modifiers\u001b[49m\u001b[43m,\u001b[49m\n\u001b[1;32m    347\u001b[0m \u001b[43m    \u001b[49m\u001b[43mfit_estimator\u001b[49m\u001b[43m,\u001b[49m\n\u001b[1;32m    348\u001b[0m \u001b[43m    \u001b[49m\u001b[43mmethod_params\u001b[49m\u001b[43m,\u001b[49m\n\u001b[1;32m    349\u001b[0m \u001b[43m\u001b[49m\u001b[43m)\u001b[49m\n",
      "File \u001b[0;32m~/wsi/venv/lib/python3.9/site-packages/dowhy/causal_estimator.py:717\u001b[0m, in \u001b[0;36mestimate_effect\u001b[0;34m(data, treatment, outcome, identifier_name, estimator, control_value, treatment_value, target_units, effect_modifiers, fit_estimator, method_params)\u001b[0m\n\u001b[1;32m    712\u001b[0m     \u001b[38;5;28;01mreturn\u001b[39;00m CausalEstimate(\n\u001b[1;32m    713\u001b[0m         \u001b[38;5;28;01mNone\u001b[39;00m, \u001b[38;5;28;01mNone\u001b[39;00m, \u001b[38;5;28;01mNone\u001b[39;00m, \u001b[38;5;28;01mNone\u001b[39;00m, \u001b[38;5;28;01mNone\u001b[39;00m, \u001b[38;5;28;01mNone\u001b[39;00m, control_value\u001b[38;5;241m=\u001b[39mcontrol_value, treatment_value\u001b[38;5;241m=\u001b[39mtreatment_value\n\u001b[1;32m    714\u001b[0m     )\n\u001b[1;32m    716\u001b[0m \u001b[38;5;28;01mif\u001b[39;00m fit_estimator:\n\u001b[0;32m--> 717\u001b[0m     \u001b[43mestimator\u001b[49m\u001b[38;5;241;43m.\u001b[39;49m\u001b[43mfit\u001b[49m\u001b[43m(\u001b[49m\n\u001b[1;32m    718\u001b[0m \u001b[43m        \u001b[49m\u001b[43mdata\u001b[49m\u001b[38;5;241;43m=\u001b[39;49m\u001b[43mdata\u001b[49m\u001b[43m,\u001b[49m\n\u001b[1;32m    719\u001b[0m \u001b[43m        \u001b[49m\u001b[43meffect_modifier_names\u001b[49m\u001b[38;5;241;43m=\u001b[39;49m\u001b[43meffect_modifiers\u001b[49m\u001b[43m,\u001b[49m\n\u001b[1;32m    720\u001b[0m \u001b[43m        \u001b[49m\u001b[38;5;241;43m*\u001b[39;49m\u001b[38;5;241;43m*\u001b[39;49m\u001b[43mmethod_params\u001b[49m\u001b[43m[\u001b[49m\u001b[38;5;124;43m\"\u001b[39;49m\u001b[38;5;124;43mfit_params\u001b[39;49m\u001b[38;5;124;43m\"\u001b[39;49m\u001b[43m]\u001b[49m\u001b[43m \u001b[49m\u001b[38;5;28;43;01mif\u001b[39;49;00m\u001b[43m \u001b[49m\u001b[38;5;124;43m\"\u001b[39;49m\u001b[38;5;124;43mfit_params\u001b[39;49m\u001b[38;5;124;43m\"\u001b[39;49m\u001b[43m \u001b[49m\u001b[38;5;129;43;01min\u001b[39;49;00m\u001b[43m \u001b[49m\u001b[43mmethod_params\u001b[49m\u001b[43m \u001b[49m\u001b[38;5;28;43;01melse\u001b[39;49;00m\u001b[43m \u001b[49m\u001b[43m{\u001b[49m\u001b[43m}\u001b[49m\u001b[43m,\u001b[49m\n\u001b[1;32m    721\u001b[0m \u001b[43m    \u001b[49m\u001b[43m)\u001b[49m\n\u001b[1;32m    723\u001b[0m estimate \u001b[38;5;241m=\u001b[39m estimator\u001b[38;5;241m.\u001b[39mestimate_effect(\n\u001b[1;32m    724\u001b[0m     data,\n\u001b[1;32m    725\u001b[0m     treatment_value\u001b[38;5;241m=\u001b[39mtreatment_value,\n\u001b[0;32m   (...)\u001b[0m\n\u001b[1;32m    728\u001b[0m     confidence_intervals\u001b[38;5;241m=\u001b[39mestimator\u001b[38;5;241m.\u001b[39m_confidence_intervals,\n\u001b[1;32m    729\u001b[0m )\n\u001b[1;32m    731\u001b[0m \u001b[38;5;28;01mif\u001b[39;00m estimator\u001b[38;5;241m.\u001b[39m_significance_test:\n",
      "File \u001b[0;32m~/wsi/venv/lib/python3.9/site-packages/dowhy/causal_estimators/propensity_score_matching_estimator.py:97\u001b[0m, in \u001b[0;36mPropensityScoreMatchingEstimator.fit\u001b[0;34m(self, data, effect_modifier_names)\u001b[0m\n\u001b[1;32m     83\u001b[0m \u001b[38;5;28;01mdef\u001b[39;00m \u001b[38;5;21mfit\u001b[39m(\n\u001b[1;32m     84\u001b[0m     \u001b[38;5;28mself\u001b[39m,\n\u001b[1;32m     85\u001b[0m     data: pd\u001b[38;5;241m.\u001b[39mDataFrame,\n\u001b[1;32m     86\u001b[0m     effect_modifier_names: Optional[List[\u001b[38;5;28mstr\u001b[39m]] \u001b[38;5;241m=\u001b[39m \u001b[38;5;28;01mNone\u001b[39;00m,\n\u001b[1;32m     87\u001b[0m ):\n\u001b[1;32m     88\u001b[0m \u001b[38;5;250m    \u001b[39m\u001b[38;5;124;03m\"\"\"\u001b[39;00m\n\u001b[1;32m     89\u001b[0m \u001b[38;5;124;03m    Fits the estimator with data for effect estimation\u001b[39;00m\n\u001b[1;32m     90\u001b[0m \u001b[38;5;124;03m    :param data: data frame containing the data\u001b[39;00m\n\u001b[0;32m   (...)\u001b[0m\n\u001b[1;32m     95\u001b[0m \u001b[38;5;124;03m                methods support this currently.\u001b[39;00m\n\u001b[1;32m     96\u001b[0m \u001b[38;5;124;03m    \"\"\"\u001b[39;00m\n\u001b[0;32m---> 97\u001b[0m     \u001b[38;5;28;43msuper\u001b[39;49m\u001b[43m(\u001b[49m\u001b[43m)\u001b[49m\u001b[38;5;241;43m.\u001b[39;49m\u001b[43mfit\u001b[49m\u001b[43m(\u001b[49m\u001b[43mdata\u001b[49m\u001b[43m,\u001b[49m\u001b[43m \u001b[49m\u001b[43meffect_modifier_names\u001b[49m\u001b[38;5;241;43m=\u001b[39;49m\u001b[43meffect_modifier_names\u001b[49m\u001b[43m)\u001b[49m\n\u001b[1;32m     98\u001b[0m     \u001b[38;5;28mself\u001b[39m\u001b[38;5;241m.\u001b[39msymbolic_estimator \u001b[38;5;241m=\u001b[39m \u001b[38;5;28mself\u001b[39m\u001b[38;5;241m.\u001b[39mconstruct_symbolic_estimator(\u001b[38;5;28mself\u001b[39m\u001b[38;5;241m.\u001b[39m_target_estimand)\n\u001b[1;32m     99\u001b[0m     \u001b[38;5;28mself\u001b[39m\u001b[38;5;241m.\u001b[39mlogger\u001b[38;5;241m.\u001b[39minfo(\u001b[38;5;28mself\u001b[39m\u001b[38;5;241m.\u001b[39msymbolic_estimator)\n",
      "File \u001b[0;32m~/wsi/venv/lib/python3.9/site-packages/dowhy/causal_estimators/propensity_score_estimator.py:111\u001b[0m, in \u001b[0;36mPropensityScoreEstimator.fit\u001b[0;34m(self, data, effect_modifier_names)\u001b[0m\n\u001b[1;32m    109\u001b[0m     error_msg \u001b[38;5;241m=\u001b[39m \u001b[38;5;124m\"\u001b[39m\u001b[38;5;124mNo common causes/confounders present. Propensity score based methods are not applicable\u001b[39m\u001b[38;5;124m\"\u001b[39m\n\u001b[1;32m    110\u001b[0m     \u001b[38;5;28mself\u001b[39m\u001b[38;5;241m.\u001b[39mlogger\u001b[38;5;241m.\u001b[39merror(error_msg)\n\u001b[0;32m--> 111\u001b[0m     \u001b[38;5;28;01mraise\u001b[39;00m \u001b[38;5;167;01mException\u001b[39;00m(error_msg)\n\u001b[1;32m    113\u001b[0m \u001b[38;5;66;03m# Check if the treatment is one-dimensional\u001b[39;00m\n\u001b[1;32m    114\u001b[0m \u001b[38;5;28;01mif\u001b[39;00m \u001b[38;5;28mlen\u001b[39m(\u001b[38;5;28mself\u001b[39m\u001b[38;5;241m.\u001b[39m_target_estimand\u001b[38;5;241m.\u001b[39mtreatment_variable) \u001b[38;5;241m>\u001b[39m \u001b[38;5;241m1\u001b[39m:\n",
      "\u001b[0;31mException\u001b[0m: No common causes/confounders present. Propensity score based methods are not applicable"
     ]
    }
   ],
   "source": [
    "import pandas as pd\n",
    "import dowhy\n",
    "from dowhy import CausalModel\n",
    "\n",
    "\n",
    "model = CausalModel(\n",
    "    data=df,\n",
    "    treatment='Age',\n",
    "    outcome='Survived',\n",
    "    graph=\"\"\"digraph {\n",
    "    Age -> Survived\n",
    "    Sex -> Survived\n",
    "    Pclass -> Survived\n",
    "    SibSp -> Survived\n",
    "    Parch -> Survived\n",
    "    Embarked -> Survived\n",
    "}\"\"\"\n",
    ")\n",
    "\n",
    "identified_estimand = model.identify_effect()\n",
    "\n",
    "estimate = model.estimate_effect(identified_estimand, method_name=\"backdoor.propensity_score_matching\")\n",
    "\n",
    "refuted_estimate = model.refute_estimate(identified_estimand, estimate, method_name=\"random_common_cause\")\n",
    "\n",
    "print(refuted_estimate)\n"
   ]
  }
 ],
 "metadata": {
  "kernelspec": {
   "display_name": "venv",
   "language": "python",
   "name": "python3"
  },
  "language_info": {
   "codemirror_mode": {
    "name": "ipython",
    "version": 3
   },
   "file_extension": ".py",
   "mimetype": "text/x-python",
   "name": "python",
   "nbconvert_exporter": "python",
   "pygments_lexer": "ipython3",
   "version": "3.9.7"
  }
 },
 "nbformat": 4,
 "nbformat_minor": 2
}
