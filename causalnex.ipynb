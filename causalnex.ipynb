{
 "cells": [
  {
   "cell_type": "markdown",
   "metadata": {},
   "source": [
    "# [CausalNex](https://github.com/uber/causalml) \n",
    "\n",
    "CausalNex to biblioteka Pythona, która wykorzystuje sieci bayesowskie do łączenia uczenia maszynowego z wiedzą dziedzinową w celu prowadzenia rozumowania przyczynowego. Dzięki CausalNex możesz odkrywać strukturalne zależności w swoich danych, uczyć się złożonych rozkładów oraz obserwować skutki potencjalnych interwencji. Biblioteka umożliwia bardziej wszechstronną analizę przyczynową, wspomagając podejmowanie decyzji opartych na danych.\n",
    "\n",
    "## Instalacja"
   ]
  },
  {
   "cell_type": "code",
   "execution_count": 45,
   "metadata": {},
   "outputs": [
    {
     "name": "stdout",
     "output_type": "stream",
     "text": [
      "\u001b[33mWARNING: You are using pip version 21.2.3; however, version 24.0 is available.\n",
      "You should consider upgrading via the '/home/natalia/wsi/venv/bin/python -m pip install --upgrade pip' command.\u001b[0m\n",
      "Note: you may need to restart the kernel to use updated packages.\n",
      "Requirement already satisfied: ipython==8.10.0 in ./venv/lib/python3.9/site-packages (8.10.0)\n",
      "Requirement already satisfied: pygments>=2.4.0 in ./venv/lib/python3.9/site-packages (from ipython==8.10.0) (2.17.2)\n",
      "Requirement already satisfied: prompt-toolkit<3.1.0,>=3.0.30 in ./venv/lib/python3.9/site-packages (from ipython==8.10.0) (3.0.43)\n",
      "Requirement already satisfied: backcall in ./venv/lib/python3.9/site-packages (from ipython==8.10.0) (0.2.0)\n",
      "Requirement already satisfied: decorator in ./venv/lib/python3.9/site-packages (from ipython==8.10.0) (5.1.1)\n",
      "Requirement already satisfied: stack-data in ./venv/lib/python3.9/site-packages (from ipython==8.10.0) (0.6.3)\n",
      "Requirement already satisfied: pexpect>4.3 in ./venv/lib/python3.9/site-packages (from ipython==8.10.0) (4.9.0)\n",
      "Requirement already satisfied: pickleshare in ./venv/lib/python3.9/site-packages (from ipython==8.10.0) (0.7.5)\n",
      "Requirement already satisfied: traitlets>=5 in ./venv/lib/python3.9/site-packages (from ipython==8.10.0) (5.14.2)\n",
      "Requirement already satisfied: matplotlib-inline in ./venv/lib/python3.9/site-packages (from ipython==8.10.0) (0.1.7)\n",
      "Requirement already satisfied: jedi>=0.16 in ./venv/lib/python3.9/site-packages (from ipython==8.10.0) (0.19.1)\n",
      "Requirement already satisfied: parso<0.9.0,>=0.8.3 in ./venv/lib/python3.9/site-packages (from jedi>=0.16->ipython==8.10.0) (0.8.4)\n",
      "Requirement already satisfied: ptyprocess>=0.5 in ./venv/lib/python3.9/site-packages (from pexpect>4.3->ipython==8.10.0) (0.7.0)\n",
      "Requirement already satisfied: wcwidth in ./venv/lib/python3.9/site-packages (from prompt-toolkit<3.1.0,>=3.0.30->ipython==8.10.0) (0.2.13)\n",
      "Requirement already satisfied: executing>=1.2.0 in ./venv/lib/python3.9/site-packages (from stack-data->ipython==8.10.0) (2.0.1)\n",
      "Requirement already satisfied: asttokens>=2.1.0 in ./venv/lib/python3.9/site-packages (from stack-data->ipython==8.10.0) (2.4.1)\n",
      "Requirement already satisfied: pure-eval in ./venv/lib/python3.9/site-packages (from stack-data->ipython==8.10.0) (0.2.2)\n",
      "Requirement already satisfied: six>=1.12.0 in ./venv/lib/python3.9/site-packages (from asttokens>=2.1.0->stack-data->ipython==8.10.0) (1.16.0)\n",
      "\u001b[33mWARNING: You are using pip version 21.2.3; however, version 24.0 is available.\n",
      "You should consider upgrading via the '/home/natalia/wsi/venv/bin/python -m pip install --upgrade pip' command.\u001b[0m\n",
      "Note: you may need to restart the kernel to use updated packages.\n",
      "Collecting pandas==2.0.3\n",
      "  Using cached pandas-2.0.3-cp39-cp39-manylinux_2_17_x86_64.manylinux2014_x86_64.whl (12.4 MB)\n",
      "Requirement already satisfied: numpy>=1.20.3 in ./venv/lib/python3.9/site-packages (from pandas==2.0.3) (1.23.5)\n",
      "Requirement already satisfied: python-dateutil>=2.8.2 in ./venv/lib/python3.9/site-packages (from pandas==2.0.3) (2.9.0.post0)\n",
      "Requirement already satisfied: pytz>=2020.1 in ./venv/lib/python3.9/site-packages (from pandas==2.0.3) (2024.1)\n",
      "Requirement already satisfied: tzdata>=2022.1 in ./venv/lib/python3.9/site-packages (from pandas==2.0.3) (2024.1)\n",
      "Requirement already satisfied: six>=1.5 in ./venv/lib/python3.9/site-packages (from python-dateutil>=2.8.2->pandas==2.0.3) (1.16.0)\n",
      "Installing collected packages: pandas\n",
      "  Attempting uninstall: pandas\n",
      "    Found existing installation: pandas 1.5.3\n",
      "    Uninstalling pandas-1.5.3:\n",
      "      Successfully uninstalled pandas-1.5.3\n",
      "\u001b[31mERROR: pip's dependency resolver does not currently take into account all the packages that are installed. This behaviour is the source of the following dependency conflicts.\n",
      "causalnex 0.12.1 requires pandas<2.0,>=1.0, but you have pandas 2.0.3 which is incompatible.\u001b[0m\n",
      "Successfully installed pandas-2.0.3\n",
      "\u001b[33mWARNING: You are using pip version 21.2.3; however, version 24.0 is available.\n",
      "You should consider upgrading via the '/home/natalia/wsi/venv/bin/python -m pip install --upgrade pip' command.\u001b[0m\n",
      "Note: you may need to restart the kernel to use updated packages.\n",
      "Requirement already satisfied: causalnex in ./venv/lib/python3.9/site-packages (0.12.1)\n",
      "Requirement already satisfied: pyvis>=0.3.2 in ./venv/lib/python3.9/site-packages (from causalnex) (0.3.2)\n",
      "Requirement already satisfied: scikit-learn!=0.24.1,>=0.24.0 in ./venv/lib/python3.9/site-packages (from causalnex) (1.4.2)\n",
      "Requirement already satisfied: pathos>=0.2.7 in ./venv/lib/python3.9/site-packages (from causalnex) (0.3.2)\n",
      "Requirement already satisfied: ipython>=8.10.0 in ./venv/lib/python3.9/site-packages (from causalnex) (8.10.0)\n",
      "Requirement already satisfied: wheel>=0.38.0 in ./venv/lib/python3.9/site-packages (from causalnex) (0.43.0)\n",
      "Requirement already satisfied: torch>=1.7 in ./venv/lib/python3.9/site-packages (from causalnex) (2.2.2)\n",
      "Collecting pandas<2.0,>=1.0\n",
      "  Using cached pandas-1.5.3-cp39-cp39-manylinux_2_17_x86_64.manylinux2014_x86_64.whl (12.2 MB)\n",
      "Requirement already satisfied: networkx>=2.5 in ./venv/lib/python3.9/site-packages (from causalnex) (3.2.1)\n",
      "Requirement already satisfied: numpy<1.24,>=1.14.2 in ./venv/lib/python3.9/site-packages (from causalnex) (1.23.5)\n",
      "Requirement already satisfied: scipy>=1.7 in ./venv/lib/python3.9/site-packages (from causalnex) (1.11.4)\n",
      "Requirement already satisfied: setuptools>=65.5.1 in ./venv/lib/python3.9/site-packages (from causalnex) (69.5.1)\n",
      "Requirement already satisfied: pgmpy<0.1.20,>=0.1.14 in ./venv/lib/python3.9/site-packages (from causalnex) (0.1.19)\n",
      "Requirement already satisfied: jedi>=0.16 in ./venv/lib/python3.9/site-packages (from ipython>=8.10.0->causalnex) (0.19.1)\n",
      "Requirement already satisfied: pygments>=2.4.0 in ./venv/lib/python3.9/site-packages (from ipython>=8.10.0->causalnex) (2.17.2)\n",
      "Requirement already satisfied: stack-data in ./venv/lib/python3.9/site-packages (from ipython>=8.10.0->causalnex) (0.6.3)\n",
      "Requirement already satisfied: matplotlib-inline in ./venv/lib/python3.9/site-packages (from ipython>=8.10.0->causalnex) (0.1.7)\n",
      "Requirement already satisfied: prompt-toolkit<3.1.0,>=3.0.30 in ./venv/lib/python3.9/site-packages (from ipython>=8.10.0->causalnex) (3.0.43)\n",
      "Requirement already satisfied: decorator in ./venv/lib/python3.9/site-packages (from ipython>=8.10.0->causalnex) (5.1.1)\n",
      "Requirement already satisfied: pexpect>4.3 in ./venv/lib/python3.9/site-packages (from ipython>=8.10.0->causalnex) (4.9.0)\n",
      "Requirement already satisfied: traitlets>=5 in ./venv/lib/python3.9/site-packages (from ipython>=8.10.0->causalnex) (5.14.2)\n",
      "Requirement already satisfied: backcall in ./venv/lib/python3.9/site-packages (from ipython>=8.10.0->causalnex) (0.2.0)\n",
      "Requirement already satisfied: pickleshare in ./venv/lib/python3.9/site-packages (from ipython>=8.10.0->causalnex) (0.7.5)\n",
      "Requirement already satisfied: parso<0.9.0,>=0.8.3 in ./venv/lib/python3.9/site-packages (from jedi>=0.16->ipython>=8.10.0->causalnex) (0.8.4)\n",
      "Requirement already satisfied: python-dateutil>=2.8.1 in ./venv/lib/python3.9/site-packages (from pandas<2.0,>=1.0->causalnex) (2.9.0.post0)\n",
      "Requirement already satisfied: pytz>=2020.1 in ./venv/lib/python3.9/site-packages (from pandas<2.0,>=1.0->causalnex) (2024.1)\n",
      "Requirement already satisfied: dill>=0.3.8 in ./venv/lib/python3.9/site-packages (from pathos>=0.2.7->causalnex) (0.3.8)\n",
      "Requirement already satisfied: multiprocess>=0.70.16 in ./venv/lib/python3.9/site-packages (from pathos>=0.2.7->causalnex) (0.70.16)\n",
      "Requirement already satisfied: ppft>=1.7.6.8 in ./venv/lib/python3.9/site-packages (from pathos>=0.2.7->causalnex) (1.7.6.8)\n",
      "Requirement already satisfied: pox>=0.3.4 in ./venv/lib/python3.9/site-packages (from pathos>=0.2.7->causalnex) (0.3.4)\n",
      "Requirement already satisfied: ptyprocess>=0.5 in ./venv/lib/python3.9/site-packages (from pexpect>4.3->ipython>=8.10.0->causalnex) (0.7.0)\n",
      "Requirement already satisfied: statsmodels in ./venv/lib/python3.9/site-packages (from pgmpy<0.1.20,>=0.1.14->causalnex) (0.14.2)\n",
      "Requirement already satisfied: joblib in ./venv/lib/python3.9/site-packages (from pgmpy<0.1.20,>=0.1.14->causalnex) (1.4.0)\n",
      "Requirement already satisfied: pyparsing in ./venv/lib/python3.9/site-packages (from pgmpy<0.1.20,>=0.1.14->causalnex) (3.1.2)\n",
      "Requirement already satisfied: tqdm in ./venv/lib/python3.9/site-packages (from pgmpy<0.1.20,>=0.1.14->causalnex) (4.66.2)\n",
      "Requirement already satisfied: wcwidth in ./venv/lib/python3.9/site-packages (from prompt-toolkit<3.1.0,>=3.0.30->ipython>=8.10.0->causalnex) (0.2.13)\n",
      "Requirement already satisfied: six>=1.5 in ./venv/lib/python3.9/site-packages (from python-dateutil>=2.8.1->pandas<2.0,>=1.0->causalnex) (1.16.0)\n",
      "Requirement already satisfied: jsonpickle>=1.4.1 in ./venv/lib/python3.9/site-packages (from pyvis>=0.3.2->causalnex) (3.0.4)\n",
      "Requirement already satisfied: jinja2>=2.9.6 in ./venv/lib/python3.9/site-packages (from pyvis>=0.3.2->causalnex) (3.1.3)\n",
      "Requirement already satisfied: MarkupSafe>=2.0 in ./venv/lib/python3.9/site-packages (from jinja2>=2.9.6->pyvis>=0.3.2->causalnex) (2.1.5)\n",
      "Requirement already satisfied: threadpoolctl>=2.0.0 in ./venv/lib/python3.9/site-packages (from scikit-learn!=0.24.1,>=0.24.0->causalnex) (3.4.0)\n",
      "Requirement already satisfied: triton==2.2.0 in ./venv/lib/python3.9/site-packages (from torch>=1.7->causalnex) (2.2.0)\n",
      "Requirement already satisfied: nvidia-cublas-cu12==12.1.3.1 in ./venv/lib/python3.9/site-packages (from torch>=1.7->causalnex) (12.1.3.1)\n",
      "Requirement already satisfied: nvidia-curand-cu12==10.3.2.106 in ./venv/lib/python3.9/site-packages (from torch>=1.7->causalnex) (10.3.2.106)\n",
      "Requirement already satisfied: nvidia-cudnn-cu12==8.9.2.26 in ./venv/lib/python3.9/site-packages (from torch>=1.7->causalnex) (8.9.2.26)\n",
      "Requirement already satisfied: nvidia-cuda-nvrtc-cu12==12.1.105 in ./venv/lib/python3.9/site-packages (from torch>=1.7->causalnex) (12.1.105)\n",
      "Requirement already satisfied: nvidia-nccl-cu12==2.19.3 in ./venv/lib/python3.9/site-packages (from torch>=1.7->causalnex) (2.19.3)\n",
      "Requirement already satisfied: typing-extensions>=4.8.0 in ./venv/lib/python3.9/site-packages (from torch>=1.7->causalnex) (4.11.0)\n",
      "Requirement already satisfied: nvidia-cuda-runtime-cu12==12.1.105 in ./venv/lib/python3.9/site-packages (from torch>=1.7->causalnex) (12.1.105)\n",
      "Requirement already satisfied: nvidia-cusolver-cu12==11.4.5.107 in ./venv/lib/python3.9/site-packages (from torch>=1.7->causalnex) (11.4.5.107)\n",
      "Requirement already satisfied: nvidia-cufft-cu12==11.0.2.54 in ./venv/lib/python3.9/site-packages (from torch>=1.7->causalnex) (11.0.2.54)\n",
      "Requirement already satisfied: nvidia-nvtx-cu12==12.1.105 in ./venv/lib/python3.9/site-packages (from torch>=1.7->causalnex) (12.1.105)\n",
      "Requirement already satisfied: filelock in ./venv/lib/python3.9/site-packages (from torch>=1.7->causalnex) (3.13.4)\n",
      "Requirement already satisfied: nvidia-cuda-cupti-cu12==12.1.105 in ./venv/lib/python3.9/site-packages (from torch>=1.7->causalnex) (12.1.105)\n",
      "Requirement already satisfied: fsspec in ./venv/lib/python3.9/site-packages (from torch>=1.7->causalnex) (2024.3.1)\n",
      "Requirement already satisfied: nvidia-cusparse-cu12==12.1.0.106 in ./venv/lib/python3.9/site-packages (from torch>=1.7->causalnex) (12.1.0.106)\n",
      "Requirement already satisfied: sympy in ./venv/lib/python3.9/site-packages (from torch>=1.7->causalnex) (1.12)\n",
      "Requirement already satisfied: nvidia-nvjitlink-cu12 in ./venv/lib/python3.9/site-packages (from nvidia-cusolver-cu12==11.4.5.107->torch>=1.7->causalnex) (12.4.127)\n",
      "Requirement already satisfied: executing>=1.2.0 in ./venv/lib/python3.9/site-packages (from stack-data->ipython>=8.10.0->causalnex) (2.0.1)\n",
      "Requirement already satisfied: pure-eval in ./venv/lib/python3.9/site-packages (from stack-data->ipython>=8.10.0->causalnex) (0.2.2)\n",
      "Requirement already satisfied: asttokens>=2.1.0 in ./venv/lib/python3.9/site-packages (from stack-data->ipython>=8.10.0->causalnex) (2.4.1)\n",
      "Requirement already satisfied: packaging>=21.3 in ./venv/lib/python3.9/site-packages (from statsmodels->pgmpy<0.1.20,>=0.1.14->causalnex) (24.0)\n",
      "Requirement already satisfied: patsy>=0.5.6 in ./venv/lib/python3.9/site-packages (from statsmodels->pgmpy<0.1.20,>=0.1.14->causalnex) (0.5.6)\n",
      "Requirement already satisfied: mpmath>=0.19 in ./venv/lib/python3.9/site-packages (from sympy->torch>=1.7->causalnex) (1.3.0)\n",
      "Installing collected packages: pandas\n",
      "  Attempting uninstall: pandas\n",
      "    Found existing installation: pandas 2.0.3\n",
      "    Uninstalling pandas-2.0.3:\n",
      "      Successfully uninstalled pandas-2.0.3\n",
      "Successfully installed pandas-1.5.3\n",
      "\u001b[33mWARNING: You are using pip version 21.2.3; however, version 24.0 is available.\n",
      "You should consider upgrading via the '/home/natalia/wsi/venv/bin/python -m pip install --upgrade pip' command.\u001b[0m\n",
      "Note: you may need to restart the kernel to use updated packages.\n"
     ]
    }
   ],
   "source": [
    "%pip install numpy>=1.24.1\n",
    "%pip install ipython==8.10.0\n",
    "%pip install pandas==2.0.3\n",
    "%pip install causalnex"
   ]
  },
  {
   "cell_type": "markdown",
   "metadata": {},
   "source": [
    "## Przygotowanie danych"
   ]
  },
  {
   "cell_type": "code",
   "execution_count": 46,
   "metadata": {},
   "outputs": [
    {
     "data": {
      "text/html": [
       "<div>\n",
       "<style scoped>\n",
       "    .dataframe tbody tr th:only-of-type {\n",
       "        vertical-align: middle;\n",
       "    }\n",
       "\n",
       "    .dataframe tbody tr th {\n",
       "        vertical-align: top;\n",
       "    }\n",
       "\n",
       "    .dataframe thead th {\n",
       "        text-align: right;\n",
       "    }\n",
       "</style>\n",
       "<table border=\"1\" class=\"dataframe\">\n",
       "  <thead>\n",
       "    <tr style=\"text-align: right;\">\n",
       "      <th></th>\n",
       "      <th>Pclass</th>\n",
       "      <th>Sex</th>\n",
       "      <th>Age</th>\n",
       "      <th>SibSp</th>\n",
       "      <th>Parch</th>\n",
       "      <th>Fare</th>\n",
       "      <th>Embarked</th>\n",
       "      <th>Survived</th>\n",
       "    </tr>\n",
       "  </thead>\n",
       "  <tbody>\n",
       "    <tr>\n",
       "      <th>0</th>\n",
       "      <td>3</td>\n",
       "      <td>1</td>\n",
       "      <td>22</td>\n",
       "      <td>1</td>\n",
       "      <td>0</td>\n",
       "      <td>7.2500</td>\n",
       "      <td>2</td>\n",
       "      <td>0</td>\n",
       "    </tr>\n",
       "    <tr>\n",
       "      <th>1</th>\n",
       "      <td>1</td>\n",
       "      <td>0</td>\n",
       "      <td>38</td>\n",
       "      <td>1</td>\n",
       "      <td>0</td>\n",
       "      <td>71.2833</td>\n",
       "      <td>0</td>\n",
       "      <td>1</td>\n",
       "    </tr>\n",
       "    <tr>\n",
       "      <th>2</th>\n",
       "      <td>3</td>\n",
       "      <td>0</td>\n",
       "      <td>26</td>\n",
       "      <td>0</td>\n",
       "      <td>0</td>\n",
       "      <td>7.9250</td>\n",
       "      <td>2</td>\n",
       "      <td>1</td>\n",
       "    </tr>\n",
       "    <tr>\n",
       "      <th>3</th>\n",
       "      <td>1</td>\n",
       "      <td>0</td>\n",
       "      <td>35</td>\n",
       "      <td>1</td>\n",
       "      <td>0</td>\n",
       "      <td>53.1000</td>\n",
       "      <td>2</td>\n",
       "      <td>1</td>\n",
       "    </tr>\n",
       "    <tr>\n",
       "      <th>4</th>\n",
       "      <td>3</td>\n",
       "      <td>1</td>\n",
       "      <td>35</td>\n",
       "      <td>0</td>\n",
       "      <td>0</td>\n",
       "      <td>8.0500</td>\n",
       "      <td>2</td>\n",
       "      <td>0</td>\n",
       "    </tr>\n",
       "  </tbody>\n",
       "</table>\n",
       "</div>"
      ],
      "text/plain": [
       "   Pclass  Sex  Age  SibSp  Parch     Fare  Embarked  Survived\n",
       "0       3    1   22      1      0   7.2500         2         0\n",
       "1       1    0   38      1      0  71.2833         0         1\n",
       "2       3    0   26      0      0   7.9250         2         1\n",
       "3       1    0   35      1      0  53.1000         2         1\n",
       "4       3    1   35      0      0   8.0500         2         0"
      ]
     },
     "execution_count": 46,
     "metadata": {},
     "output_type": "execute_result"
    }
   ],
   "source": [
    "import pandas as pd\n",
    "\n",
    "url = \"https://raw.githubusercontent.com/datasciencedojo/datasets/master/titanic.csv\"\n",
    "\n",
    "df = pd.read_csv(url)\n",
    "\n",
    "df['Cabin'].isnull().sum() # 687 z 891 wartości jest pustych, pominę tę kolumnę \n",
    "df['Ticket'] # nie można w łatwy sposób podzielić na kategorię, też pomijam  \n",
    "features = ['Pclass', 'Sex', 'Age', 'SibSp', 'Parch', 'Fare', 'Embarked']\n",
    "df = df[features + ['Survived']]\n",
    "\n",
    "\n",
    "df.dropna(inplace=True)\n",
    "df = df.astype({\"Age\": int})\n",
    "\n",
    "df.loc[:, 'Sex']= df['Sex'].astype('category').cat.codes \n",
    "df.loc[:,'Embarked'] = df['Embarked'].astype('category').cat.codes \n",
    "df.head()"
   ]
  },
  {
   "cell_type": "code",
   "execution_count": 47,
   "metadata": {},
   "outputs": [],
   "source": [
    "import warnings\n",
    "from causalnex.structure import StructureModel\n",
    "\n",
    "warnings.filterwarnings(\"ignore\")  # silence warnings\n",
    "\n",
    "sm = StructureModel()"
   ]
  },
  {
   "cell_type": "code",
   "execution_count": 48,
   "metadata": {},
   "outputs": [
    {
     "data": {
      "text/plain": [
       "OutEdgeView([('Pclass', 'Cabin'), ('Pclass', 'Fare')])"
      ]
     },
     "execution_count": 48,
     "metadata": {},
     "output_type": "execute_result"
    }
   ],
   "source": [
    "sm.add_edges_from([\n",
    "    ('Pclass', 'Cabin'), \n",
    "    ('Pclass', 'Fare')\n",
    "])\n",
    "sm.edges"
   ]
  },
  {
   "cell_type": "code",
   "execution_count": 49,
   "metadata": {},
   "outputs": [],
   "source": [
    "from causalnex.plots import plot_structure, NODE_STYLE, EDGE_STYLE\n",
    "\n",
    "viz = plot_structure(\n",
    "    sm,\n",
    "    all_node_attributes=NODE_STYLE.WEAK,\n",
    "    all_edge_attributes=EDGE_STYLE.WEAK,\n",
    ")\n",
    "\n",
    "\n",
    "#viz.show(\"01_simple_plot.html\")\n"
   ]
  },
  {
   "cell_type": "code",
   "execution_count": 50,
   "metadata": {},
   "outputs": [],
   "source": [
    "from causalnex.structure.notears import from_pandas\n",
    "struct_data = df.copy()\n",
    "sm = from_pandas(struct_data)\n",
    "\n",
    "sm.remove_edges_below_threshold(0.8)"
   ]
  },
  {
   "cell_type": "code",
   "execution_count": 51,
   "metadata": {},
   "outputs": [],
   "source": [
    "sm = sm.get_largest_subgraph()\n",
    "viz = plot_structure(\n",
    "    sm,\n",
    "    all_node_attributes=NODE_STYLE.WEAK,\n",
    "    all_edge_attributes=EDGE_STYLE.WEAK,\n",
    ")\n",
    "\n",
    "viz.toggle_physics(False)\n",
    "#viz.show(\"01_fully_connected.html\")"
   ]
  },
  {
   "cell_type": "code",
   "execution_count": 52,
   "metadata": {},
   "outputs": [],
   "source": [
    "import networkx as nx\n",
    "\n",
    "nx.drawing.nx_pydot.write_dot(sm, 'graph.dot')"
   ]
  },
  {
   "cell_type": "code",
   "execution_count": 53,
   "metadata": {},
   "outputs": [
    {
     "data": {
      "text/plain": [
       "'Source.gv.png'"
      ]
     },
     "execution_count": 53,
     "metadata": {},
     "output_type": "execute_result"
    }
   ],
   "source": [
    "from graphviz import Source\n",
    "\n",
    "with open('graph.dot', 'r') as file:\n",
    "    dot_graph = file.read()\n",
    "\n",
    "src = Source(dot_graph)\n",
    "src.render(format='png') \n"
   ]
  },
  {
   "cell_type": "code",
   "execution_count": 54,
   "metadata": {},
   "outputs": [],
   "source": [
    "sm.remove_edge(\"Embarked\", \"Age\")"
   ]
  },
  {
   "cell_type": "code",
   "execution_count": 55,
   "metadata": {},
   "outputs": [],
   "source": [
    "from causalnex.network import BayesianNetwork\n",
    "\n",
    "bn = BayesianNetwork(sm)\n",
    "\n",
    "\n",
    "discretised_data = struct_data.copy()"
   ]
  },
  {
   "cell_type": "code",
   "execution_count": 56,
   "metadata": {},
   "outputs": [],
   "source": [
    "# Split 90% train and 10% test\n",
    "from sklearn.model_selection import train_test_split\n",
    "\n",
    "train, test = train_test_split(discretised_data, train_size=0.9, test_size=0.1, random_state=7)"
   ]
  },
  {
   "cell_type": "code",
   "execution_count": 57,
   "metadata": {},
   "outputs": [],
   "source": [
    "bn = bn.fit_node_states(discretised_data)"
   ]
  },
  {
   "cell_type": "code",
   "execution_count": 58,
   "metadata": {},
   "outputs": [],
   "source": [
    "bn = bn.fit_cpds(train, method=\"BayesianEstimator\", bayes_prior=\"K2\")"
   ]
  },
  {
   "cell_type": "code",
   "execution_count": 59,
   "metadata": {},
   "outputs": [
    {
     "data": {
      "text/html": [
       "<div>\n",
       "<style scoped>\n",
       "    .dataframe tbody tr th:only-of-type {\n",
       "        vertical-align: middle;\n",
       "    }\n",
       "\n",
       "    .dataframe tbody tr th {\n",
       "        vertical-align: top;\n",
       "    }\n",
       "\n",
       "    .dataframe thead th {\n",
       "        text-align: right;\n",
       "    }\n",
       "</style>\n",
       "<table border=\"1\" class=\"dataframe\">\n",
       "  <thead>\n",
       "    <tr style=\"text-align: right;\">\n",
       "      <th></th>\n",
       "      <th></th>\n",
       "    </tr>\n",
       "    <tr>\n",
       "      <th>Survived</th>\n",
       "      <th></th>\n",
       "    </tr>\n",
       "  </thead>\n",
       "  <tbody>\n",
       "    <tr>\n",
       "      <th>0</th>\n",
       "      <td>0.598131</td>\n",
       "    </tr>\n",
       "    <tr>\n",
       "      <th>1</th>\n",
       "      <td>0.401869</td>\n",
       "    </tr>\n",
       "  </tbody>\n",
       "</table>\n",
       "</div>"
      ],
      "text/plain": [
       "                  \n",
       "Survived          \n",
       "0         0.598131\n",
       "1         0.401869"
      ]
     },
     "execution_count": 59,
     "metadata": {},
     "output_type": "execute_result"
    }
   ],
   "source": [
    "bn.cpds[\"Survived\"]"
   ]
  },
  {
   "cell_type": "code",
   "execution_count": 60,
   "metadata": {},
   "outputs": [
    {
     "data": {
      "text/html": [
       "<div>\n",
       "<style scoped>\n",
       "    .dataframe tbody tr th:only-of-type {\n",
       "        vertical-align: middle;\n",
       "    }\n",
       "\n",
       "    .dataframe tbody tr th {\n",
       "        vertical-align: top;\n",
       "    }\n",
       "\n",
       "    .dataframe thead th {\n",
       "        text-align: right;\n",
       "    }\n",
       "</style>\n",
       "<table border=\"1\" class=\"dataframe\">\n",
       "  <thead>\n",
       "    <tr style=\"text-align: right;\">\n",
       "      <th></th>\n",
       "      <th>Pclass</th>\n",
       "      <th>Sex</th>\n",
       "      <th>Age</th>\n",
       "      <th>SibSp</th>\n",
       "      <th>Parch</th>\n",
       "      <th>Fare</th>\n",
       "      <th>Embarked</th>\n",
       "    </tr>\n",
       "  </thead>\n",
       "  <tbody>\n",
       "    <tr>\n",
       "      <th>0</th>\n",
       "      <td>3</td>\n",
       "      <td>1</td>\n",
       "      <td>34</td>\n",
       "      <td>0</td>\n",
       "      <td>0</td>\n",
       "      <td>7.8292</td>\n",
       "      <td>1</td>\n",
       "    </tr>\n",
       "    <tr>\n",
       "      <th>1</th>\n",
       "      <td>3</td>\n",
       "      <td>0</td>\n",
       "      <td>47</td>\n",
       "      <td>1</td>\n",
       "      <td>0</td>\n",
       "      <td>7.0000</td>\n",
       "      <td>2</td>\n",
       "    </tr>\n",
       "    <tr>\n",
       "      <th>2</th>\n",
       "      <td>2</td>\n",
       "      <td>1</td>\n",
       "      <td>62</td>\n",
       "      <td>0</td>\n",
       "      <td>0</td>\n",
       "      <td>9.6875</td>\n",
       "      <td>1</td>\n",
       "    </tr>\n",
       "    <tr>\n",
       "      <th>3</th>\n",
       "      <td>3</td>\n",
       "      <td>1</td>\n",
       "      <td>27</td>\n",
       "      <td>0</td>\n",
       "      <td>0</td>\n",
       "      <td>8.6625</td>\n",
       "      <td>2</td>\n",
       "    </tr>\n",
       "    <tr>\n",
       "      <th>4</th>\n",
       "      <td>3</td>\n",
       "      <td>0</td>\n",
       "      <td>22</td>\n",
       "      <td>1</td>\n",
       "      <td>1</td>\n",
       "      <td>12.2875</td>\n",
       "      <td>2</td>\n",
       "    </tr>\n",
       "  </tbody>\n",
       "</table>\n",
       "</div>"
      ],
      "text/plain": [
       "   Pclass  Sex  Age  SibSp  Parch     Fare  Embarked\n",
       "0       3    1   34      0      0   7.8292         1\n",
       "1       3    0   47      1      0   7.0000         2\n",
       "2       2    1   62      0      0   9.6875         1\n",
       "3       3    1   27      0      0   8.6625         2\n",
       "4       3    0   22      1      1  12.2875         2"
      ]
     },
     "execution_count": 60,
     "metadata": {},
     "output_type": "execute_result"
    }
   ],
   "source": [
    "url = \"https://raw.githubusercontent.com/dsindy/kaggle-titanic/master/data/test.csv\"\n",
    "\n",
    "test = pd.read_csv(url)\n",
    "\n",
    "test['Cabin'].isnull().sum() \n",
    "test['Ticket'] \n",
    "features = ['Pclass', 'Sex', 'Age', 'SibSp', 'Parch', 'Fare', 'Embarked']\n",
    "test = test[features]\n",
    "\n",
    "\n",
    "test.dropna(inplace=True)\n",
    "test = test.astype({\"Age\": int})\n",
    "\n",
    "test.loc[:, 'Sex']= test['Sex'].astype('category').cat.codes \n",
    "test.loc[:,'Embarked'] = test['Embarked'].astype('category').cat.codes \n",
    "test.head()"
   ]
  },
  {
   "cell_type": "code",
   "execution_count": 61,
   "metadata": {},
   "outputs": [
    {
     "data": {
      "text/plain": [
       "{'Survived_0': {'precision': 0.5955056179775281,\n",
       "  'recall': 1.0,\n",
       "  'f1-score': 0.7464788732394366,\n",
       "  'support': 424.0},\n",
       " 'Survived_1': {'precision': 0.0,\n",
       "  'recall': 0.0,\n",
       "  'f1-score': 0.0,\n",
       "  'support': 288.0},\n",
       " 'accuracy': 0.5955056179775281,\n",
       " 'macro avg': {'precision': 0.29775280898876405,\n",
       "  'recall': 0.5,\n",
       "  'f1-score': 0.3732394366197183,\n",
       "  'support': 712.0},\n",
       " 'weighted avg': {'precision': 0.3546269410427976,\n",
       "  'recall': 0.5955056179775281,\n",
       "  'f1-score': 0.4445323627156196,\n",
       "  'support': 712.0}}"
      ]
     },
     "execution_count": 61,
     "metadata": {},
     "output_type": "execute_result"
    }
   ],
   "source": [
    "from causalnex.evaluation import classification_report\n",
    "\n",
    "classification_report(bn, df, 'Survived')"
   ]
  },
  {
   "cell_type": "code",
   "execution_count": 67,
   "metadata": {},
   "outputs": [
    {
     "name": "stdout",
     "output_type": "stream",
     "text": [
      "AUC: 0.5955056179775281\n"
     ]
    }
   ],
   "source": [
    "from causalnex.evaluation import roc_auc\n",
    "roc, auc = roc_auc(bn, df, 'Survived')\n",
    "print(f\"AUC: {auc}\")"
   ]
  }
 ],
 "metadata": {
  "kernelspec": {
   "display_name": "venv",
   "language": "python",
   "name": "python3"
  },
  "language_info": {
   "codemirror_mode": {
    "name": "ipython",
    "version": 3
   },
   "file_extension": ".py",
   "mimetype": "text/x-python",
   "name": "python",
   "nbconvert_exporter": "python",
   "pygments_lexer": "ipython3",
   "version": "3.9.7"
  }
 },
 "nbformat": 4,
 "nbformat_minor": 2
}
